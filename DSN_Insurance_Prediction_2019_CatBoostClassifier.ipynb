{
  "nbformat": 4,
  "nbformat_minor": 0,
  "metadata": {
    "colab": {
      "name": "DSN Insurance Prediction 2019 CatBoostClassifier ",
      "private_outputs": true,
      "provenance": []
    },
    "kernelspec": {
      "name": "python3",
      "display_name": "Python 3"
    },
    "language_info": {
      "name": "python"
    }
  },
  "cells": [
    {
      "cell_type": "code",
      "metadata": {
        "id": "iF7D0FJw6za5"
      },
      "source": [
        "! pip install catboost\n"
      ],
      "execution_count": null,
      "outputs": []
    },
    {
      "cell_type": "code",
      "metadata": {
        "id": "3ApNCGB252Ai"
      },
      "source": [
        "import pandas as pd \n",
        "import numpy as np\n",
        "import seaborn as sns \n",
        "import matplotlib.pyplot as plt \n",
        "from catboost import CatBoostClassifier, Pool, metrics, cv\n",
        "from sklearn.metrics import accuracy_score"
      ],
      "execution_count": null,
      "outputs": []
    },
    {
      "cell_type": "code",
      "metadata": {
        "id": "JEq5_6ZZ680m"
      },
      "source": [
        "# reading our data \n",
        "# Load files\n",
        "train = pd.read_csv('train_data.csv')\n",
        "test = pd.read_csv('test_data.csv')\n",
        "samplesubmission = pd.read_csv('sample_submission.csv')\n",
        "variable_definations = pd.read_csv('VariableDescription.csv')"
      ],
      "execution_count": null,
      "outputs": []
    },
    {
      "cell_type": "code",
      "metadata": {
        "id": "1SHZzd0M69aQ"
      },
      "source": [
        "##checking for missing values and treat.\n",
        "# Missing Value Imputation \n",
        "print(train.isnull().sum())\n",
        "\n",
        "print(\"\\n\")\n",
        "v=\"\"\n",
        "for i in range(1,5):\n",
        "    v += \"***\"\n",
        "print(v ,end=\"\")\n",
        "print(\"\\n\")\n",
        "\n",
        "print(test.isnull().sum())"
      ],
      "execution_count": null,
      "outputs": []
    },
    {
      "cell_type": "code",
      "metadata": {
        "id": "nQAFBaQv7AZC"
      },
      "source": [
        "train['Garden'].fillna(train['Garden'].mode()[0],inplace=True)\n",
        "test['Garden'].fillna(test['Garden'].mode()[0],inplace=True)\n",
        "\n",
        "train['Building Dimension'].fillna(train['Building Dimension'].median(),inplace=True)\n",
        "test['Building Dimension'].fillna(test['Building Dimension'].median(),inplace=True)\n",
        "\n",
        "train['Date_of_Occupancy'].fillna(train['Date_of_Occupancy'].mean(),inplace=True)\n",
        "test['Date_of_Occupancy'].fillna(test['Date_of_Occupancy'].mean(),inplace=True)\n",
        "\n",
        "train['Geo_Code'].fillna(train['Geo_Code'].mode()[0],inplace=True)\n",
        "test['Geo_Code'].fillna(test['Geo_Code'].mode()[0],inplace=True)\n",
        "\n",
        "train['NumberOfWindows'].replace(('   .'), '0',inplace=True)\n",
        "test['NumberOfWindows'].replace(('   .'), '0', inplace=True)"
      ],
      "execution_count": null,
      "outputs": []
    },
    {
      "cell_type": "code",
      "metadata": {
        "id": "PTMdnjW87NIr"
      },
      "source": [
        "# separating our features and label variables \n",
        "X = train.drop('Claim',axis=1)\n",
        "y= train['Claim']"
      ],
      "execution_count": null,
      "outputs": []
    },
    {
      "cell_type": "code",
      "metadata": {
        "id": "vVe91Eom7R1m"
      },
      "source": [
        "# declaring our categorical features \n",
        "print(X.dtypes)\n",
        "\n",
        "categorical_features_indices = np.where(X.dtypes == 'object')[0]"
      ],
      "execution_count": null,
      "outputs": []
    },
    {
      "cell_type": "code",
      "metadata": {
        "id": "10YV5e0R7TvS"
      },
      "source": [
        "print(categorical_features_indices)"
      ],
      "execution_count": null,
      "outputs": []
    },
    {
      "cell_type": "code",
      "metadata": {
        "id": "zSODKpoD7V-t"
      },
      "source": [
        "# Data splitting \n",
        "from sklearn.model_selection import train_test_split\n",
        "\n",
        "X_train, X_validation, y_train, y_validation = train_test_split(X, y, train_size=0.80, random_state=42)\n",
        "test_id =  test['Customer Id']\n",
        "X_test = test"
      ],
      "execution_count": null,
      "outputs": []
    },
    {
      "cell_type": "code",
      "metadata": {
        "id": "HxQHV_VF7ZsZ"
      },
      "source": [
        "# Basic model\n",
        "model = CatBoostClassifier(\n",
        "    custom_loss=['Logloss','AUC','Accuracy'],\n",
        "    random_seed=42,\n",
        "    logging_level='Silent'\n",
        ")\n",
        "\n",
        "\n",
        "model.fit(\n",
        "    X_train, y_train,\n",
        "    cat_features=categorical_features_indices,\n",
        "    eval_set=(X_validation, y_validation),\n",
        "#     logging_level='Verbose',  # you can uncomment this for text output\n",
        "    plot=True\n",
        ");"
      ],
      "execution_count": null,
      "outputs": []
    },
    {
      "cell_type": "code",
      "metadata": {
        "id": "Eq2Hh4WE7dV-"
      },
      "source": [
        "cv_params = model.get_params()\n",
        "print(cv_params)"
      ],
      "execution_count": null,
      "outputs": []
    },
    {
      "cell_type": "code",
      "metadata": {
        "id": "OwQth1TK7hFb"
      },
      "source": [
        "## attempting cross-validation\n",
        "\n",
        "cv_params.update({'loss_function': metrics.Logloss() })\n",
        "\n",
        "cv_data = cv(\n",
        "    Pool(X, y, cat_features=categorical_features_indices),\n",
        "    cv_params,\n",
        "    nfold = 5,\n",
        "    iterations= 1000,\n",
        "    plot=True\n",
        ")"
      ],
      "execution_count": null,
      "outputs": []
    },
    {
      "cell_type": "code",
      "metadata": {
        "id": "AJpBCLBG7kkt"
      },
      "source": [
        "cv_data.head()"
      ],
      "execution_count": null,
      "outputs": []
    },
    {
      "cell_type": "code",
      "metadata": {
        "id": "mE7BjBWK7pAh"
      },
      "source": [
        "print('Best validation AUC score is: {:.2f}±{:.2f} on step {}'.format(\n",
        "    np.max(cv_data['test-AUC-mean']),\n",
        "    cv_data['test-AUC-std'][np.argmax(cv_data['test-AUC-mean'])],\n",
        "    np.argmax(cv_data['test-AUC-mean'])\n",
        "))"
      ],
      "execution_count": null,
      "outputs": []
    },
    {
      "cell_type": "code",
      "metadata": {
        "id": "g-nuK1l_7qwv"
      },
      "source": [
        "print('Precise  AUC score: {}'.format(np.max(cv_data['test-AUC-mean'])))"
      ],
      "execution_count": null,
      "outputs": []
    },
    {
      "cell_type": "code",
      "metadata": {
        "id": "OKgvMiAI7suz"
      },
      "source": [
        "# Model applying \n",
        "predictions = model.predict(X_test)\n",
        "predictions_probs = model.predict_proba(X_test)[:,1]\n",
        "print(predictions[:10])\n",
        "print(predictions_probs[:10])"
      ],
      "execution_count": null,
      "outputs": []
    },
    {
      "cell_type": "code",
      "metadata": {
        "id": "qUrFtaxJ7utb"
      },
      "source": [
        "#convert the predictions to pandas dataframe\n",
        "submission = pd.DataFrame(data={'Customer Id':test_id,'Claim':predictions_probs})\n",
        "\n",
        "submission.to_csv('Submission.csv',index=False)\n",
        "                          \n",
        "submission.head()"
      ],
      "execution_count": null,
      "outputs": []
    },
    {
      "cell_type": "code",
      "metadata": {
        "id": "AwOxpm6C-M9V"
      },
      "source": [
        "import hyperopt\n",
        "\n",
        "def hyperopt_objective(params):\n",
        "    model = CatBoostClassifier(\n",
        "        l2_leaf_reg=int(params['l2_leaf_reg']),\n",
        "        learning_rate=params['learning_rate'],\n",
        "        iterations=500,\n",
        "        eval_metric=metrics.AUC(),\n",
        "        random_seed=42,\n",
        "        verbose=False,\n",
        "        loss_function=metrics.Logloss(),\n",
        "    )\n",
        "    \n",
        "    cv_data = cv(\n",
        "        Pool(X, y, cat_features=categorical_features_indices),\n",
        "        model.get_params()\n",
        "    )\n",
        "    best_accuracy = np.max(cv_data['test-AUC-mean'])\n",
        "    \n",
        "    return 1 - best_accuracy # as hyperopt minimises"
      ],
      "execution_count": null,
      "outputs": []
    },
    {
      "cell_type": "code",
      "metadata": {
        "id": "yWmQiy_1_mcq"
      },
      "source": [
        "from numpy.random import RandomState\n",
        "\n",
        "params_space = {\n",
        "    'l2_leaf_reg': hyperopt.hp.qloguniform('l2_leaf_reg', 0, 2, 1),\n",
        "    'learning_rate': hyperopt.hp.uniform('learning_rate', 1e-3, 5e-1),\n",
        "}\n",
        "\n",
        "trials = hyperopt.Trials()\n",
        "\n",
        "best = hyperopt.fmin(\n",
        "    hyperopt_objective,\n",
        "    space=params_space,\n",
        "    algo=hyperopt.tpe.suggest,\n",
        "    max_evals=50,\n",
        "    trials=trials,\n",
        "    rstate=RandomState(123)\n",
        ")\n",
        "\n",
        "print(best)"
      ],
      "execution_count": null,
      "outputs": []
    },
    {
      "cell_type": "code",
      "metadata": {
        "id": "Nc5d-DeI_m-p"
      },
      "source": [
        "model = CatBoostClassifier(\n",
        "    l2_leaf_reg=int(best['l2_leaf_reg']),\n",
        "    learning_rate=best['learning_rate'],\n",
        "    iterations=1500,\n",
        "    eval_metric=metrics.AUC(),\n",
        "    random_seed=42,\n",
        "    verbose=False,\n",
        "    loss_function=metrics.Logloss(),\n",
        ")\n",
        "cv_data = cv(Pool(X, y, cat_features=categorical_features_indices), model.get_params())"
      ],
      "execution_count": null,
      "outputs": []
    },
    {
      "cell_type": "code",
      "metadata": {
        "id": "LM1TuCk5CnDb"
      },
      "source": [
        "print('Precise validation AUC score: {}'.format(np.max(cv_data['test-AUC-mean'])))"
      ],
      "execution_count": null,
      "outputs": []
    },
    {
      "cell_type": "code",
      "metadata": {
        "id": "jlUKhOydGLNv"
      },
      "source": [
        "model.fit(\n",
        "    X_train, y_train,\n",
        "    cat_features=categorical_features_indices,\n",
        "    eval_set=(X_validation, y_validation),\n",
        "#     logging_level='Verbose',  # you can uncomment this for text output\n",
        "    plot=True\n",
        ");"
      ],
      "execution_count": null,
      "outputs": []
    },
    {
      "cell_type": "code",
      "metadata": {
        "id": "Uu2W2ipTCqk2"
      },
      "source": [
        "# Model applying \n",
        "predictions = model.predict(X_test)\n",
        "predictions_probs = model.predict_proba(X_test)[:,1]\n",
        "print(predictions[:10])\n",
        "print(predictions_probs[:10])"
      ],
      "execution_count": null,
      "outputs": []
    },
    {
      "cell_type": "code",
      "metadata": {
        "id": "qrXTWPxQGAzi"
      },
      "source": [
        "#convert the predictions to pandas dataframe\n",
        "submission = pd.DataFrame(data={'Customer Id':test_id,'Claim':predictions_probs})\n",
        "\n",
        "submission.to_csv('Submission.csv',index=False)\n",
        "                          \n",
        "submission.head()"
      ],
      "execution_count": null,
      "outputs": []
    },
    {
      "cell_type": "code",
      "metadata": {
        "id": "SW9YA5FpGVny"
      },
      "source": [
        ""
      ],
      "execution_count": null,
      "outputs": []
    }
  ]
}